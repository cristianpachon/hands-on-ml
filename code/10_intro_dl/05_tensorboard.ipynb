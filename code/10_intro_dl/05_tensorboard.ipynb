{
 "cells": [
  {
   "cell_type": "code",
   "execution_count": 1,
   "metadata": {},
   "outputs": [],
   "source": [
    "import os\n",
    "import tensorflow as tf\n",
    "from tensorflow import keras\n",
    "from sklearn.datasets import fetch_california_housing\n",
    "from sklearn.model_selection import train_test_split\n",
    "from sklearn.preprocessing import StandardScaler\n",
    "import numpy as np"
   ]
  },
  {
   "cell_type": "code",
   "execution_count": 2,
   "metadata": {},
   "outputs": [],
   "source": [
    "housing = fetch_california_housing()\n",
    "X_train_full, X_test, y_train_full, y_test = train_test_split(housing.data, housing.target)\n",
    "X_train, X_valid, y_train, y_valid = train_test_split(X_train_full, y_train_full)"
   ]
  },
  {
   "cell_type": "code",
   "execution_count": 3,
   "metadata": {},
   "outputs": [],
   "source": [
    "input_ = keras.layers.Input(shape=X_train.shape[1:])\n",
    "hidden1 = keras.layers.Dense(3, activation=\"relu\")(input_)\n",
    "hidden2 = keras.layers.Dense(3, activation=\"relu\")(hidden1)\n",
    "concat = keras.layers.Concatenate()([input_, hidden2])\n",
    "output = keras.layers.Dense(1)(hidden1)"
   ]
  },
  {
   "cell_type": "markdown",
   "metadata": {},
   "source": [
    "### Using TensorBoard for Visualization"
   ]
  },
  {
   "cell_type": "code",
   "execution_count": 4,
   "metadata": {},
   "outputs": [],
   "source": [
    "model = keras.Model(inputs=[input_], outputs=[output])"
   ]
  },
  {
   "cell_type": "code",
   "execution_count": 5,
   "metadata": {},
   "outputs": [],
   "source": [
    "model.compile(loss=\"mean_squared_error\", optimizer=\"sgd\")"
   ]
  },
  {
   "cell_type": "code",
   "execution_count": 6,
   "metadata": {},
   "outputs": [],
   "source": [
    "root_logdir = os.path.join(os.curdir, \"my_logs\")"
   ]
  },
  {
   "cell_type": "code",
   "execution_count": 7,
   "metadata": {},
   "outputs": [],
   "source": [
    "def get_run_logdir():\n",
    "    import time\n",
    "    run_id = time.strftime(\"run_%Y_%m_%d-%H_%M_%S\")\n",
    "    return os.path.join(root_logdir, run_id)"
   ]
  },
  {
   "cell_type": "code",
   "execution_count": 8,
   "metadata": {},
   "outputs": [],
   "source": [
    "run_logdir = get_run_logdir()"
   ]
  },
  {
   "cell_type": "markdown",
   "metadata": {},
   "source": [
    "Keras provides a nice TensorBoard callback:"
   ]
  },
  {
   "cell_type": "code",
   "execution_count": 9,
   "metadata": {},
   "outputs": [],
   "source": [
    "tb_cb = keras.callbacks.TensorBoard(run_logdir)"
   ]
  },
  {
   "cell_type": "code",
   "execution_count": 10,
   "metadata": {},
   "outputs": [
    {
     "name": "stdout",
     "output_type": "stream",
     "text": [
      "Train on 11610 samples, validate on 3870 samples\n",
      "Epoch 1/20\n",
      "   32/11610 [..............................] - ETA: 5:50 - loss: 304.8947WARNING:tensorflow:Method (on_train_batch_end) is slow compared to the batch update (0.140065). Check your callbacks.\n",
      "11610/11610 [==============================] - 2s 196us/sample - loss: 2.3804 - val_loss: 1.3583\n",
      "Epoch 2/20\n",
      "11610/11610 [==============================] - 1s 110us/sample - loss: 1.3356 - val_loss: 1.3600\n",
      "Epoch 3/20\n",
      "11610/11610 [==============================] - 1s 102us/sample - loss: 1.3355 - val_loss: 1.3577\n",
      "Epoch 4/20\n",
      "11610/11610 [==============================] - 1s 100us/sample - loss: 1.3357 - val_loss: 1.3594\n",
      "Epoch 5/20\n",
      "11610/11610 [==============================] - 1s 100us/sample - loss: 1.3354 - val_loss: 1.3582\n",
      "Epoch 6/20\n",
      "11610/11610 [==============================] - 1s 101us/sample - loss: 1.3356 - val_loss: 1.3601\n",
      "Epoch 7/20\n",
      "11610/11610 [==============================] - 1s 100us/sample - loss: 1.3355 - val_loss: 1.3584\n",
      "Epoch 8/20\n",
      "11610/11610 [==============================] - 1s 104us/sample - loss: 1.3350 - val_loss: 1.3578\n",
      "Epoch 9/20\n",
      "11610/11610 [==============================] - 1s 102us/sample - loss: 1.3356 - val_loss: 1.3583\n",
      "Epoch 10/20\n",
      "11610/11610 [==============================] - 1s 103us/sample - loss: 1.3355 - val_loss: 1.3581\n",
      "Epoch 11/20\n",
      "11610/11610 [==============================] - 1s 102us/sample - loss: 1.3357 - val_loss: 1.3585\n",
      "Epoch 12/20\n",
      "11610/11610 [==============================] - 1s 103us/sample - loss: 1.3355 - val_loss: 1.3580\n",
      "Epoch 13/20\n",
      "11610/11610 [==============================] - 1s 99us/sample - loss: 1.3355 - val_loss: 1.3587\n",
      "Epoch 14/20\n",
      "11610/11610 [==============================] - 1s 97us/sample - loss: 1.3355 - val_loss: 1.3601\n",
      "Epoch 15/20\n",
      "11610/11610 [==============================] - 1s 102us/sample - loss: 1.3355 - val_loss: 1.3590\n",
      "Epoch 16/20\n",
      "11610/11610 [==============================] - 1s 101us/sample - loss: 1.3355 - val_loss: 1.3601\n",
      "Epoch 17/20\n",
      "11610/11610 [==============================] - 1s 105us/sample - loss: 1.3355 - val_loss: 1.3581\n",
      "Epoch 18/20\n",
      "11610/11610 [==============================] - 1s 103us/sample - loss: 1.3354 - val_loss: 1.3577\n",
      "Epoch 19/20\n",
      "11610/11610 [==============================] - 1s 103us/sample - loss: 1.3356 - val_loss: 1.3581\n",
      "Epoch 20/20\n",
      "11610/11610 [==============================] - 1s 101us/sample - loss: 1.3357 - val_loss: 1.3595\n"
     ]
    }
   ],
   "source": [
    "history = model.fit(\n",
    "    X_train,\n",
    "    y_train,\n",
    "    epochs=20,\n",
    "    validation_data=(X_valid, y_valid),\n",
    "    callbacks=[tb_cb]\n",
    ")"
   ]
  },
  {
   "cell_type": "code",
   "execution_count": null,
   "metadata": {},
   "outputs": [],
   "source": [
    "%load_ext tensorboard\n",
    "%tensorboard --logdir=./my_logs --port=6006"
   ]
  },
  {
   "cell_type": "markdown",
   "metadata": {},
   "source": [
    "The previous command does not word. Please, [read it](https://github.com/tensorflow/tensorboard/issues/3152)"
   ]
  }
 ],
 "metadata": {
  "environment": {
   "name": "tf2-gpu.2-1.m55",
   "type": "gcloud",
   "uri": "gcr.io/deeplearning-platform-release/tf2-gpu.2-1:m55"
  },
  "kernelspec": {
   "display_name": "Python 3",
   "language": "python",
   "name": "python3"
  },
  "language_info": {
   "codemirror_mode": {
    "name": "ipython",
    "version": 3
   },
   "file_extension": ".py",
   "mimetype": "text/x-python",
   "name": "python",
   "nbconvert_exporter": "python",
   "pygments_lexer": "ipython3",
   "version": "3.7.8"
  }
 },
 "nbformat": 4,
 "nbformat_minor": 4
}
