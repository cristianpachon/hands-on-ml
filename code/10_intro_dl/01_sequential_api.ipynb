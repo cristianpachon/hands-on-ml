{
 "cells": [
  {
   "cell_type": "markdown",
   "metadata": {},
   "source": [
    "### Imports "
   ]
  },
  {
   "cell_type": "code",
   "execution_count": 1,
   "metadata": {},
   "outputs": [],
   "source": [
    "import tensorflow as tf\n",
    "from tensorflow import keras\n",
    "import pandas as pd\n",
    "import matplotlib.pyplot as plt\n",
    "from sklearn.datasets import fetch_california_housing\n",
    "from sklearn.model_selection import train_test_split\n",
    "from sklearn.preprocessing import StandardScaler"
   ]
  },
  {
   "cell_type": "code",
   "execution_count": 2,
   "metadata": {},
   "outputs": [
    {
     "name": "stdout",
     "output_type": "stream",
     "text": [
      "2.1.1\n",
      "2.3.0-tf\n"
     ]
    }
   ],
   "source": [
    "print(tf.__version__)\n",
    "print(keras.__version__)"
   ]
  },
  {
   "cell_type": "markdown",
   "metadata": {},
   "source": [
    "### Building an Image Classifier Using Sequential API"
   ]
  },
  {
   "cell_type": "markdown",
   "metadata": {},
   "source": [
    "#### Loand dataset"
   ]
  },
  {
   "cell_type": "code",
   "execution_count": 3,
   "metadata": {},
   "outputs": [],
   "source": [
    "fashion_mnist = keras.datasets.fashion_mnist"
   ]
  },
  {
   "cell_type": "code",
   "execution_count": 4,
   "metadata": {},
   "outputs": [],
   "source": [
    "(X_train_full, y_train_full), (X_test, y_test) = fashion_mnist.load_data()"
   ]
  },
  {
   "cell_type": "code",
   "execution_count": 5,
   "metadata": {},
   "outputs": [
    {
     "data": {
      "text/plain": [
       "(60000,)"
      ]
     },
     "execution_count": 5,
     "metadata": {},
     "output_type": "execute_result"
    }
   ],
   "source": [
    "X_train_full.shape\n",
    "y_train_full.shape"
   ]
  },
  {
   "cell_type": "code",
   "execution_count": 6,
   "metadata": {},
   "outputs": [],
   "source": [
    "X_valid, X_train = X_train_full[:5000]/255.0, X_train_full[5000:]/255.0\n",
    "y_valid, y_train = y_train_full[:5000], y_train_full[5000:]"
   ]
  },
  {
   "cell_type": "code",
   "execution_count": 7,
   "metadata": {},
   "outputs": [],
   "source": [
    "class_names = [\"T-shirt/top\", \"Trouser\", \"Pullover\", \"Dress\", \"Coat\", \"Sandal\", \"Shirt\", \"Sneaker\", \"Bag\", \"Ankle boot\"]"
   ]
  },
  {
   "cell_type": "markdown",
   "metadata": {},
   "source": [
    "#### Creating the model using Sequential API"
   ]
  },
  {
   "cell_type": "code",
   "execution_count": 9,
   "metadata": {},
   "outputs": [],
   "source": [
    "model = keras.models.Sequential()\n",
    "model.add(keras.layers.Flatten(input_shape=[28, 28]))\n",
    "model.add(keras.layers.Dense(300, activation=\"relu\"))\n",
    "model.add(keras.layers.Dense(100, activation=\"relu\"))\n",
    "model.add(keras.layers.Dense(10, activation=\"softmax\"))"
   ]
  },
  {
   "cell_type": "code",
   "execution_count": 10,
   "metadata": {},
   "outputs": [
    {
     "name": "stdout",
     "output_type": "stream",
     "text": [
      "Model: \"sequential\"\n",
      "_________________________________________________________________\n",
      "Layer (type)                 Output Shape              Param #   \n",
      "=================================================================\n",
      "flatten (Flatten)            (None, 784)               0         \n",
      "_________________________________________________________________\n",
      "dense (Dense)                (None, 300)               235500    \n",
      "_________________________________________________________________\n",
      "dense_1 (Dense)              (None, 100)               30100     \n",
      "_________________________________________________________________\n",
      "dense_2 (Dense)              (None, 10)                1010      \n",
      "=================================================================\n",
      "Total params: 266,610\n",
      "Trainable params: 266,610\n",
      "Non-trainable params: 0\n",
      "_________________________________________________________________\n"
     ]
    }
   ],
   "source": [
    "model.summary()"
   ]
  },
  {
   "cell_type": "markdown",
   "metadata": {},
   "source": [
    "We can easily get a model's list of layers, to fetch a layer by its indeix or we can fetch it by name"
   ]
  },
  {
   "cell_type": "code",
   "execution_count": 11,
   "metadata": {},
   "outputs": [
    {
     "data": {
      "text/plain": [
       "[<tensorflow.python.keras.layers.core.Flatten at 0x7ff53255d390>,\n",
       " <tensorflow.python.keras.layers.core.Dense at 0x7ff53255dcd0>,\n",
       " <tensorflow.python.keras.layers.core.Dense at 0x7ff4d8636dd0>,\n",
       " <tensorflow.python.keras.layers.core.Dense at 0x7ff4be264910>]"
      ]
     },
     "execution_count": 11,
     "metadata": {},
     "output_type": "execute_result"
    }
   ],
   "source": [
    "model.layers"
   ]
  },
  {
   "cell_type": "code",
   "execution_count": 12,
   "metadata": {},
   "outputs": [
    {
     "name": "stdout",
     "output_type": "stream",
     "text": [
      "dense\n",
      "True\n"
     ]
    }
   ],
   "source": [
    "hidden1 = model.layers[1]\n",
    "print(hidden1.name)\n",
    "print(model.get_layer('dense') is hidden1)"
   ]
  },
  {
   "cell_type": "markdown",
   "metadata": {},
   "source": [
    "All the parameters of a layer can be accessed using its get_weights() and set_weights() methods"
   ]
  },
  {
   "cell_type": "code",
   "execution_count": 13,
   "metadata": {},
   "outputs": [
    {
     "name": "stdout",
     "output_type": "stream",
     "text": [
      "(784, 300)\n",
      "235200\n",
      "(300,)\n"
     ]
    }
   ],
   "source": [
    "w, b = hidden1.get_weights()\n",
    "print(w.shape)\n",
    "print(w.shape[0]*w.shape[1])\n",
    "print(b.shape)"
   ]
  },
  {
   "cell_type": "markdown",
   "metadata": {},
   "source": [
    "#### Compiling the model"
   ]
  },
  {
   "cell_type": "code",
   "execution_count": 14,
   "metadata": {},
   "outputs": [],
   "source": [
    "model.compile(\n",
    "    loss=\"sparse_categorical_crossentropy\",\n",
    "    optimizer=\"sgd\",\n",
    "    metrics=[\"accuracy\"]\n",
    ")"
   ]
  },
  {
   "cell_type": "markdown",
   "metadata": {},
   "source": [
    "#### Training and evaluating the model"
   ]
  },
  {
   "cell_type": "code",
   "execution_count": 15,
   "metadata": {},
   "outputs": [
    {
     "name": "stdout",
     "output_type": "stream",
     "text": [
      "Train on 55000 samples, validate on 5000 samples\n",
      "Epoch 1/30\n",
      "55000/55000 [==============================] - 6s 118us/sample - loss: 0.7098 - accuracy: 0.7645 - val_loss: 0.5285 - val_accuracy: 0.8152\n",
      "Epoch 2/30\n",
      "55000/55000 [==============================] - 5s 83us/sample - loss: 0.4840 - accuracy: 0.8308 - val_loss: 0.4590 - val_accuracy: 0.8440\n",
      "Epoch 3/30\n",
      "55000/55000 [==============================] - 5s 83us/sample - loss: 0.4399 - accuracy: 0.8460 - val_loss: 0.4135 - val_accuracy: 0.8546\n",
      "Epoch 4/30\n",
      "55000/55000 [==============================] - 5s 83us/sample - loss: 0.4116 - accuracy: 0.8570 - val_loss: 0.3966 - val_accuracy: 0.8642\n",
      "Epoch 5/30\n",
      "55000/55000 [==============================] - 5s 83us/sample - loss: 0.3907 - accuracy: 0.8616 - val_loss: 0.3804 - val_accuracy: 0.8702\n",
      "Epoch 6/30\n",
      "55000/55000 [==============================] - 5s 83us/sample - loss: 0.3749 - accuracy: 0.8686 - val_loss: 0.3758 - val_accuracy: 0.8672\n",
      "Epoch 7/30\n",
      "55000/55000 [==============================] - 5s 83us/sample - loss: 0.3611 - accuracy: 0.8719 - val_loss: 0.3618 - val_accuracy: 0.8742\n",
      "Epoch 8/30\n",
      "55000/55000 [==============================] - 5s 83us/sample - loss: 0.3496 - accuracy: 0.8757 - val_loss: 0.3470 - val_accuracy: 0.8804\n",
      "Epoch 9/30\n",
      "55000/55000 [==============================] - 5s 83us/sample - loss: 0.3380 - accuracy: 0.8795 - val_loss: 0.3684 - val_accuracy: 0.8706\n",
      "Epoch 10/30\n",
      "55000/55000 [==============================] - 5s 82us/sample - loss: 0.3298 - accuracy: 0.8826 - val_loss: 0.3482 - val_accuracy: 0.8816\n",
      "Epoch 11/30\n",
      "55000/55000 [==============================] - 5s 84us/sample - loss: 0.3225 - accuracy: 0.8857 - val_loss: 0.3533 - val_accuracy: 0.8724\n",
      "Epoch 12/30\n",
      "55000/55000 [==============================] - 5s 84us/sample - loss: 0.3131 - accuracy: 0.8883 - val_loss: 0.3334 - val_accuracy: 0.8836\n",
      "Epoch 13/30\n",
      "55000/55000 [==============================] - 5s 84us/sample - loss: 0.3065 - accuracy: 0.8901 - val_loss: 0.3294 - val_accuracy: 0.8858\n",
      "Epoch 14/30\n",
      "55000/55000 [==============================] - 5s 83us/sample - loss: 0.2986 - accuracy: 0.8926 - val_loss: 0.3346 - val_accuracy: 0.8828\n",
      "Epoch 15/30\n",
      "55000/55000 [==============================] - 5s 84us/sample - loss: 0.2930 - accuracy: 0.8950 - val_loss: 0.3389 - val_accuracy: 0.8770\n",
      "Epoch 16/30\n",
      "55000/55000 [==============================] - 5s 84us/sample - loss: 0.2857 - accuracy: 0.8977 - val_loss: 0.3415 - val_accuracy: 0.8794\n",
      "Epoch 17/30\n",
      "55000/55000 [==============================] - 5s 84us/sample - loss: 0.2808 - accuracy: 0.8986 - val_loss: 0.3123 - val_accuracy: 0.8886\n",
      "Epoch 18/30\n",
      "55000/55000 [==============================] - 5s 82us/sample - loss: 0.2763 - accuracy: 0.9003 - val_loss: 0.3258 - val_accuracy: 0.8834\n",
      "Epoch 19/30\n",
      "55000/55000 [==============================] - 5s 83us/sample - loss: 0.2710 - accuracy: 0.9015 - val_loss: 0.3108 - val_accuracy: 0.8886\n",
      "Epoch 20/30\n",
      "55000/55000 [==============================] - 5s 83us/sample - loss: 0.2643 - accuracy: 0.9048 - val_loss: 0.3118 - val_accuracy: 0.8882\n",
      "Epoch 21/30\n",
      "55000/55000 [==============================] - 5s 83us/sample - loss: 0.2595 - accuracy: 0.9067 - val_loss: 0.3093 - val_accuracy: 0.8886\n",
      "Epoch 22/30\n",
      "55000/55000 [==============================] - 5s 83us/sample - loss: 0.2548 - accuracy: 0.9079 - val_loss: 0.3051 - val_accuracy: 0.8934\n",
      "Epoch 23/30\n",
      "55000/55000 [==============================] - 5s 83us/sample - loss: 0.2504 - accuracy: 0.9097 - val_loss: 0.2999 - val_accuracy: 0.8922\n",
      "Epoch 24/30\n",
      "55000/55000 [==============================] - 5s 82us/sample - loss: 0.2452 - accuracy: 0.9115 - val_loss: 0.3042 - val_accuracy: 0.8874\n",
      "Epoch 25/30\n",
      "55000/55000 [==============================] - 5s 83us/sample - loss: 0.2413 - accuracy: 0.9134 - val_loss: 0.2985 - val_accuracy: 0.8898\n",
      "Epoch 26/30\n",
      "55000/55000 [==============================] - 5s 82us/sample - loss: 0.2367 - accuracy: 0.9147 - val_loss: 0.3069 - val_accuracy: 0.8894\n",
      "Epoch 27/30\n",
      "55000/55000 [==============================] - 5s 83us/sample - loss: 0.2330 - accuracy: 0.9165 - val_loss: 0.2988 - val_accuracy: 0.8906\n",
      "Epoch 28/30\n",
      "55000/55000 [==============================] - 5s 83us/sample - loss: 0.2293 - accuracy: 0.9181 - val_loss: 0.3086 - val_accuracy: 0.8906\n",
      "Epoch 29/30\n",
      "55000/55000 [==============================] - 5s 84us/sample - loss: 0.2253 - accuracy: 0.9194 - val_loss: 0.2946 - val_accuracy: 0.8942\n",
      "Epoch 30/30\n",
      "55000/55000 [==============================] - 5s 84us/sample - loss: 0.2220 - accuracy: 0.9216 - val_loss: 0.2990 - val_accuracy: 0.8920\n"
     ]
    }
   ],
   "source": [
    "history = model.fit(\n",
    "    X_train,\n",
    "    y_train,\n",
    "    epochs=30,\n",
    "    validation_data=(X_valid, y_valid)\n",
    ")"
   ]
  },
  {
   "cell_type": "code",
   "execution_count": 32,
   "metadata": {},
   "outputs": [
    {
     "data": {
      "image/png": "[encoded data removed]",
      "text/plain": [
       "<Figure size 576x360 with 1 Axes>"
      ]
     },
     "metadata": {
      "needs_background": "light"
     },
     "output_type": "display_data"
    }
   ],
   "source": [
    "pd.DataFrame(history.history).plot(figsize=(8, 5))\n",
    "plt.grid(True)\n",
    "plt.gca().set_ylim(0, 1)\n",
    "plt.show()"
   ]
  },
  {
   "cell_type": "code",
   "execution_count": 34,
   "metadata": {},
   "outputs": [
    {
     "name": "stdout",
     "output_type": "stream",
     "text": [
      "10000/10000 [==============================] - 1s 61us/sample - loss: 0.3275 - accuracy: 0.8847\n"
     ]
    },
    {
     "data": {
      "text/plain": [
       "[0.32748696440458297, 0.8847]"
      ]
     },
     "execution_count": 34,
     "metadata": {},
     "output_type": "execute_result"
    }
   ],
   "source": [
    "X_test = X_test/255.0\n",
    "model.evaluate(X_test, y_test)"
   ]
  },
  {
   "cell_type": "markdown",
   "metadata": {},
   "source": [
    "#### Using the model to make predictions"
   ]
  },
  {
   "cell_type": "code",
   "execution_count": 36,
   "metadata": {},
   "outputs": [
    {
     "name": "stdout",
     "output_type": "stream",
     "text": [
      "<class 'numpy.ndarray'>\n",
      "[[0.   0.   0.   0.   0.   0.   0.   0.02 0.   0.98]\n",
      " [0.   0.   1.   0.   0.   0.   0.   0.   0.   0.  ]\n",
      " [0.   1.   0.   0.   0.   0.   0.   0.   0.   0.  ]]\n"
     ]
    }
   ],
   "source": [
    "X_new = X_test[:3]\n",
    "y_proba = model.predict(X_new)\n",
    "print(type(y_proba))\n",
    "print(y_proba.round(2))"
   ]
  },
  {
   "cell_type": "markdown",
   "metadata": {},
   "source": [
    "Since we only care about the class with the highest estimated probability, we can use the predict_classes()"
   ]
  },
  {
   "cell_type": "code",
   "execution_count": 37,
   "metadata": {},
   "outputs": [
    {
     "data": {
      "text/plain": [
       "array([9, 2, 1])"
      ]
     },
     "execution_count": 37,
     "metadata": {},
     "output_type": "execute_result"
    }
   ],
   "source": [
    "model.predict_classes(X_new)"
   ]
  },
  {
   "cell_type": "markdown",
   "metadata": {},
   "source": [
    "### Building a Regression MLP Using the Sequential API"
   ]
  },
  {
   "cell_type": "code",
   "execution_count": 33,
   "metadata": {},
   "outputs": [],
   "source": [
    "housing = fetch_california_housing()"
   ]
  },
  {
   "cell_type": "code",
   "execution_count": 34,
   "metadata": {},
   "outputs": [],
   "source": [
    "X_train_full, X_test, y_train_full, y_test = train_test_split(housing.data, housing.target)\n",
    "X_train, X_valid, y_train, y_valid = train_test_split(X_train_full, y_train_full)"
   ]
  },
  {
   "cell_type": "code",
   "execution_count": 35,
   "metadata": {},
   "outputs": [
    {
     "data": {
      "text/plain": [
       "array([1.58 , 1.857, 1.344, ..., 1.634, 3.   , 1.137])"
      ]
     },
     "execution_count": 35,
     "metadata": {},
     "output_type": "execute_result"
    }
   ],
   "source": [
    "y_valid"
   ]
  },
  {
   "cell_type": "code",
   "execution_count": 36,
   "metadata": {},
   "outputs": [],
   "source": [
    "model = keras.models.Sequential([\n",
    "    keras.layers.Dense(30, activation=\"relu\", input_shape=X_train.shape[1:]),\n",
    "    keras.layers.Dense(1)\n",
    "])\n",
    "model.compile(loss=\"mean_squared_error\", optimizer=\"sgd\")"
   ]
  },
  {
   "cell_type": "code",
   "execution_count": 37,
   "metadata": {},
   "outputs": [
    {
     "name": "stdout",
     "output_type": "stream",
     "text": [
      "Train on 11610 samples, validate on 3870 samples\n",
      "Epoch 1/20\n",
      "11610/11610 [==============================] - 1s 95us/sample - loss: 1499029060013637500928.0000 - val_loss: 81898535702386.1719\n",
      "Epoch 2/20\n",
      "11610/11610 [==============================] - 1s 78us/sample - loss: 5700311250199.1953 - val_loss: 34947385.6517\n",
      "Epoch 3/20\n",
      "11610/11610 [==============================] - 1s 78us/sample - loss: 2432420.8419 - val_loss: 16.4602\n",
      "Epoch 4/20\n",
      "11610/11610 [==============================] - 1s 76us/sample - loss: 2.3711 - val_loss: 1.3100\n",
      "Epoch 5/20\n",
      "11610/11610 [==============================] - 1s 76us/sample - loss: 1.3229 - val_loss: 1.3091\n",
      "Epoch 6/20\n",
      "11610/11610 [==============================] - 1s 76us/sample - loss: 1.3230 - val_loss: 1.3087\n",
      "Epoch 7/20\n",
      "11610/11610 [==============================] - 1s 77us/sample - loss: 1.3228 - val_loss: 1.3095\n",
      "Epoch 8/20\n",
      "11610/11610 [==============================] - 1s 78us/sample - loss: 1.3227 - val_loss: 1.3087\n",
      "Epoch 9/20\n",
      "11610/11610 [==============================] - 1s 77us/sample - loss: 1.3229 - val_loss: 1.3100\n",
      "Epoch 10/20\n",
      "11610/11610 [==============================] - 1s 76us/sample - loss: 1.3230 - val_loss: 1.3087\n",
      "Epoch 11/20\n",
      "11610/11610 [==============================] - 1s 75us/sample - loss: 1.3229 - val_loss: 1.3091\n",
      "Epoch 12/20\n",
      "11610/11610 [==============================] - 1s 75us/sample - loss: 1.3228 - val_loss: 1.3087\n",
      "Epoch 13/20\n",
      "11610/11610 [==============================] - 1s 77us/sample - loss: 1.3229 - val_loss: 1.3088\n",
      "Epoch 14/20\n",
      "11610/11610 [==============================] - 1s 78us/sample - loss: 1.3230 - val_loss: 1.3088\n",
      "Epoch 15/20\n",
      "11610/11610 [==============================] - 1s 75us/sample - loss: 1.3228 - val_loss: 1.3087\n",
      "Epoch 16/20\n",
      "11610/11610 [==============================] - 1s 75us/sample - loss: 1.3229 - val_loss: 1.3087\n",
      "Epoch 17/20\n",
      "11610/11610 [==============================] - 1s 73us/sample - loss: 1.3228 - val_loss: 1.3090\n",
      "Epoch 18/20\n",
      "11610/11610 [==============================] - 1s 74us/sample - loss: 1.3224 - val_loss: 1.3123\n",
      "Epoch 19/20\n",
      "11610/11610 [==============================] - 1s 77us/sample - loss: 1.3228 - val_loss: 1.3089\n",
      "Epoch 20/20\n",
      "11610/11610 [==============================] - 1s 75us/sample - loss: 1.3225 - val_loss: 1.3123\n"
     ]
    }
   ],
   "source": [
    "history = model.fit(\n",
    "    X_train,\n",
    "    y_train,\n",
    "    epochs=20,\n",
    "    validation_data=(X_valid, y_valid)\n",
    ")"
   ]
  },
  {
   "cell_type": "code",
   "execution_count": 31,
   "metadata": {},
   "outputs": [
    {
     "name": "stdout",
     "output_type": "stream",
     "text": [
      "5160/5160 [==============================] - 0s 44us/sample - loss: 1.3270\n"
     ]
    },
    {
     "data": {
      "text/plain": [
       "1.3269811218099077"
      ]
     },
     "execution_count": 31,
     "metadata": {},
     "output_type": "execute_result"
    }
   ],
   "source": [
    "model.evaluate(X_test, y_test)"
   ]
  },
  {
   "cell_type": "code",
   "execution_count": 32,
   "metadata": {},
   "outputs": [
    {
     "data": {
      "text/plain": [
       "array([[2.0680861],\n",
       "       [2.0680861],\n",
       "       [2.0680861]], dtype=float32)"
      ]
     },
     "execution_count": 32,
     "metadata": {},
     "output_type": "execute_result"
    }
   ],
   "source": [
    "model.predict(X_test[:3])"
   ]
  }
 ],
 "metadata": {
  "environment": {
   "name": "tf2-gpu.2-1.m55",
   "type": "gcloud",
   "uri": "gcr.io/deeplearning-platform-release/tf2-gpu.2-1:m55"
  },
  "kernelspec": {
   "display_name": "Python 3",
   "language": "python",
   "name": "python3"
  },
  "language_info": {
   "codemirror_mode": {
    "name": "ipython",
    "version": 3
   },
   "file_extension": ".py",
   "mimetype": "text/x-python",
   "name": "python",
   "nbconvert_exporter": "python",
   "pygments_lexer": "ipython3",
   "version": "3.7.8"
  }
 },
 "nbformat": 4,
 "nbformat_minor": 4
}
